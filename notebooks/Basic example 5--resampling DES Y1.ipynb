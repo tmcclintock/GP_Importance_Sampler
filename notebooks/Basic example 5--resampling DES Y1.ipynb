{
 "cells": [
  {
   "cell_type": "markdown",
   "metadata": {},
   "source": [
    "# Resampling DES Y1\n",
    "\n",
    "The DES Y1 3x2pt analysis is a tricky beast because it has SO many parameters (26). Samplers don't know the marginal likelihoods of only the interesting parameters (cosmology), and only ever report the joint posterior of all parameters given the data. For this reason, if we want to resample the DES Y1 chain, we have to traing the Gaussian processes on all parameters in the chain."
   ]
  },
  {
   "cell_type": "code",
   "execution_count": 1,
   "metadata": {},
   "outputs": [],
   "source": [
    "#Import things\n",
    "import numpy as np\n",
    "import matplotlib.pyplot as plt\n",
    "import importance_sampler as isamp\n",
    "import scipy.optimize as op\n",
    "import chainconsumer as CC\n",
    "import emcee #for doing MCMC\n",
    "%matplotlib inline"
   ]
  },
  {
   "cell_type": "code",
   "execution_count": 2,
   "metadata": {},
   "outputs": [],
   "source": [
    "#Plot formatting\n",
    "plt.rc(\"font\", size=18, family=\"serif\")\n",
    "plt.rc(\"text\", usetex=True)"
   ]
  },
  {
   "cell_type": "code",
   "execution_count": 3,
   "metadata": {},
   "outputs": [
    {
     "name": "stdout",
     "output_type": "stream",
     "text": [
      "('chain shape is  ', (10000, 26))\n",
      "('lnpost shape is ', (10000,))\n"
     ]
    }
   ],
   "source": [
    "#Read in the chain and remove burn-in (which I only know is there for this example)\n",
    "input_chain = np.loadtxt(\"DES_LCDM_allparams.txt\")[-10000:]\n",
    "lnpost = np.loadtxt(\"DES_LCDM_lnpost.txt\")[-10000:]\n",
    "print(\"chain shape is  \", input_chain.shape)\n",
    "print(\"lnpost shape is \", lnpost.shape)"
   ]
  },
  {
   "cell_type": "code",
   "execution_count": 4,
   "metadata": {},
   "outputs": [],
   "source": [
    "#Pick out training points\n",
    "N_training = 300\n",
    "IS = isamp.ImportanceSampler(input_chain, lnpost, scale = 8)\n",
    "IS.select_training_points(N_training, method=\"LH\")"
   ]
  },
  {
   "cell_type": "code",
   "execution_count": 5,
   "metadata": {},
   "outputs": [
    {
     "name": "stdout",
     "output_type": "stream",
     "text": [
      "      fun: 814884.3680449151\n",
      " hess_inv: array([[2.16607629e-10]])\n",
      "      jac: array([5.04952041e-05])\n",
      "  message: 'Desired error not necessarily achieved due to precision loss.'\n",
      "     nfev: 87\n",
      "      nit: 3\n",
      "     njev: 75\n",
      "   status: 2\n",
      "  success: False\n",
      "        x: array([3.61064381])\n"
     ]
    }
   ],
   "source": [
    "#Train the GP inside of the sampler\n",
    "IS.train()"
   ]
  },
  {
   "cell_type": "code",
   "execution_count": 6,
   "metadata": {},
   "outputs": [
    {
     "name": "stdout",
     "output_type": "stream",
     "text": [
      "Running first burn-in\n",
      "Running second burn-in\n",
      "Running production...\n"
     ]
    }
   ],
   "source": [
    "#Resample the chain with an MCMC\n",
    "means = np.mean(input_chain, 0)\n",
    "\n",
    "nwalkers = 200\n",
    "ndim = len(input_chain[0])\n",
    "\n",
    "sampler = emcee.EnsembleSampler(nwalkers, ndim, IS.predict)\n",
    "\n",
    "print(\"Running first burn-in\")\n",
    "p0 = np.array([means + means*1e-3*np.random.randn(ndim) for i in range(nwalkers)])\n",
    "p0, lp, _ = sampler.run_mcmc(p0, 1000)\n",
    "print(\"Running second burn-in\")\n",
    "p0 = p0[np.argmax(lp)] + p0[np.argmax(lp)]*1e-4*np.random.randn(nwalkers, ndim)\n",
    "p0, lp, _ = sampler.run_mcmc(p0, 1000)\n",
    "sampler.reset()\n",
    "print(\"Running production...\")\n",
    "sampler.run_mcmc(p0, 3000);"
   ]
  },
  {
   "cell_type": "code",
   "execution_count": 7,
   "metadata": {},
   "outputs": [
    {
     "name": "stdout",
     "output_type": "stream",
     "text": [
      "('Means and stds of input chain: ', array([0.29176361, 0.74090343, 0.05235583, 0.98883199]), array([0.04303474, 0.08860382, 0.01003007, 0.05218202]))\n",
      "('Means and stds of test chain:  ', array([0.28252077, 0.82710289, 0.04619714, 0.98267902]), array([0.01548544, 0.0332239 , 0.00471024, 0.02178965]))\n"
     ]
    }
   ],
   "source": [
    "test_chain = sampler.flatchain\n",
    "print(\"Means and stds of input chain: \", np.mean(input_chain, 0)[:4], np.std(input_chain, 0)[:4])\n",
    "print(\"Means and stds of test chain:  \", np.mean(test_chain, 0)[:4], np.std(test_chain, 0)[:4])"
   ]
  },
  {
   "cell_type": "code",
   "execution_count": 8,
   "metadata": {},
   "outputs": [
    {
     "data": {
      "image/png": "[encoded data removed]",
      "text/plain": [
       "<matplotlib.figure.Figure at 0x1a1d34ec50>"
      ]
     },
     "metadata": {},
     "output_type": "display_data"
    }
   ],
   "source": [
    "c = CC.ChainConsumer()\n",
    "\n",
    "plot_input_chain = [input_chain[:,0], input_chain[:,4]]\n",
    "plot_test_chain = [test_chain[:,0], test_chain[:,4]]\n",
    "\n",
    "labels = [r\"$\\Omega_m$\", r\"$h$\", r\"$\\Omega_b$\", r\"$n_s$\", r\"$A_s$\"]\n",
    "labels = [r\"$\\Omega_m$\", r\"$A_s$\"]\n",
    "\n",
    "c.add_chain(plot_input_chain, parameters=labels, name=\"Input chain\")\n",
    "c.add_chain(plot_test_chain, parameters=labels, name=\"Resampled chain\")\n",
    "\n",
    "fig = c.plotter.plot()\n",
    "#fig.savefig(\"DESY1_resampling_example.png\", dpi=300, bbox_inches=\"tight\")"
   ]
  },
  {
   "cell_type": "code",
   "execution_count": null,
   "metadata": {},
   "outputs": [],
   "source": []
  }
 ],
 "metadata": {
  "kernelspec": {
   "display_name": "Python 2",
   "language": "python",
   "name": "python2"
  },
  "language_info": {
   "codemirror_mode": {
    "name": "ipython",
    "version": 2
   },
   "file_extension": ".py",
   "mimetype": "text/x-python",
   "name": "python",
   "nbconvert_exporter": "python",
   "pygments_lexer": "ipython2",
   "version": "2.7.13"
  }
 },
 "nbformat": 4,
 "nbformat_minor": 2
}
