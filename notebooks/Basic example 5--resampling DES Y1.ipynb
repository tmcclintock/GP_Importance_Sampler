{
 "cells": [
  {
   "cell_type": "markdown",
   "metadata": {},
   "source": [
    "# Resampling DES Y1\n",
    "\n",
    "The DES Y1 3x2pt analysis is a tricky beast because it has SO many parameters (26). Samplers don't know the marginal likelihoods of only the interesting parameters (cosmology), and only ever report the joint posterior of all parameters given the data. For this reason, if we want to resample the DES Y1 chain, we have to traing the Gaussian processes on all parameters in the chain."
   ]
  },
  {
   "cell_type": "code",
   "execution_count": 1,
   "metadata": {},
   "outputs": [],
   "source": [
    "#Import things\n",
    "import numpy as np\n",
    "import matplotlib.pyplot as plt\n",
    "import importance_sampler as isamp\n",
    "import scipy.optimize as op\n",
    "import chainconsumer as CC\n",
    "import emcee #for doing MCMC\n",
    "%matplotlib inline"
   ]
  },
  {
   "cell_type": "code",
   "execution_count": 2,
   "metadata": {},
   "outputs": [],
   "source": [
    "#Plot formatting\n",
    "plt.rc(\"font\", size=18, family=\"serif\")\n",
    "plt.rc(\"text\", usetex=True)"
   ]
  },
  {
   "cell_type": "code",
   "execution_count": 3,
   "metadata": {},
   "outputs": [
    {
     "name": "stdout",
     "output_type": "stream",
     "text": [
      "('chain shape is  ', (10000, 26))\n",
      "('lnpost shape is ', (10000,))\n"
     ]
    }
   ],
   "source": [
    "#Read in the chain and remove burn-in (which I only know is there for this example)\n",
    "input_chain = np.loadtxt(\"DES_LCDM_allparams.txt\")[-10000:]\n",
    "lnpost = np.loadtxt(\"DES_LCDM_lnpost.txt\")[-10000:]\n",
    "print(\"chain shape is  \", input_chain.shape)\n",
    "print(\"lnpost shape is \", lnpost.shape)"
   ]
  },
  {
   "cell_type": "code",
   "execution_count": 4,
   "metadata": {},
   "outputs": [],
   "source": [
    "#Pick out training points\n",
    "N_training = 100\n",
    "IS = isamp.ImportanceSampler(input_chain, lnpost, scale = 8)\n",
    "IS.select_training_points(N_training, method=\"LH\")"
   ]
  },
  {
   "cell_type": "code",
   "execution_count": 5,
   "metadata": {},
   "outputs": [
    {
     "name": "stdout",
     "output_type": "stream",
     "text": [
      "      fun: 1233178.8892592255\n",
      " hess_inv: array([[9.42943816e+05, 8.72870825e+06, 1.15242626e+06, 2.63323456e+06,\n",
      "        3.64172089e+05, 3.42999573e+05, 4.97142875e+05, 1.01239740e+07,\n",
      "        3.12844284e+04, 2.35829486e+06, 5.59478126e+04, 3.45024664e+04,\n",
      "        1.27769682e+06, 3.32151341e+06, 9.56259934e+06, 1.15957747e+07,\n",
      "        7.74482358e+05, 4.68814263e+06, 6.64762822e+05, 1.04565513e+07,\n",
      "        2.93858728e+05, 9.73636217e+06, 4.91797746e+06, 6.37624956e+04,\n",
      "        3.72654739e+06, 8.79503740e+05],\n",
      "       [8.72870825e+06, 8.08006036e+07, 1.06678713e+07, 2.43755356e+07,\n",
      "        3.37109723e+06, 3.17510580e+06, 4.60199181e+06, 9.37164100e+07,\n",
      "        2.89596191e+05, 2.18304520e+07, 5.17902173e+05, 3.19385182e+05,\n",
      "        1.18274858e+07, 3.07468502e+07, 8.85198321e+07, 1.07340692e+08,\n",
      "        7.16929005e+06, 4.33975725e+07, 6.15362950e+06, 9.67950383e+07,\n",
      "        2.72021491e+06, 9.01283338e+07, 4.55251259e+07, 5.90241754e+05,\n",
      "        3.44962011e+07, 8.14146035e+06],\n",
      "       [1.15242626e+06, 1.06678713e+07, 1.40844937e+06, 3.21823189e+06,\n",
      "        4.45076275e+05, 4.19200090e+05, 6.07587748e+05, 1.23731082e+07,\n",
      "        3.82345526e+04, 2.88221181e+06, 6.83771350e+04, 4.21675074e+04,\n",
      "        1.56154895e+06, 4.05941824e+06, 1.16870189e+07, 1.41718830e+07,\n",
      "        9.46540753e+05, 5.72965673e+06, 8.12446012e+05, 1.27795706e+07,\n",
      "        3.59142154e+05, 1.18993848e+07, 6.01055149e+06, 7.79279218e+04,\n",
      "        4.55443425e+06, 1.07489360e+06],\n",
      "       [2.63323456e+06, 2.43755356e+07, 3.21823189e+06, 7.35349488e+06,\n",
      "        1.01697633e+06, 9.57850586e+05, 1.38830667e+06, 2.82719140e+07,\n",
      "        8.73639806e+04, 6.58570533e+06, 1.56238227e+05, 9.63505795e+04,\n",
      "        3.56805881e+06, 9.27556130e+06, 2.67042355e+07, 3.23820217e+07,\n",
      "        2.16279680e+06, 1.30919701e+07, 1.85639723e+06, 2.92006597e+07,\n",
      "        8.20621298e+05, 2.71894805e+07, 1.37338001e+07, 1.78061282e+05,\n",
      "        1.04066474e+07, 2.45607645e+06],\n",
      "       [3.64172089e+05, 3.37109723e+06, 4.45076275e+05, 1.01697633e+06,\n",
      "        1.40647176e+05, 1.32469174e+05, 1.92000570e+05, 3.90996007e+06,\n",
      "        1.20823602e+04, 9.10792417e+05, 2.16075466e+04, 1.33251707e+04,\n",
      "        4.93456774e+05, 1.28279515e+06, 3.69315266e+06, 4.47838132e+06,\n",
      "        2.99111307e+05, 1.81059833e+06, 2.56736741e+05, 4.03840410e+06,\n",
      "        1.13490604e+05, 3.76026127e+06, 1.89936239e+06, 2.46256203e+04,\n",
      "        1.43922253e+06, 3.39671408e+05],\n",
      "       [3.42999573e+05, 3.17510580e+06, 4.19200090e+05, 9.57850586e+05,\n",
      "        1.32469174e+05, 1.24768570e+05, 1.80837893e+05, 3.68263982e+06,\n",
      "        1.13799467e+04, 8.57840070e+05, 2.03513437e+04, 1.25504879e+04,\n",
      "        4.64767807e+05, 1.20821503e+06, 3.47843733e+06, 4.21801376e+06,\n",
      "        2.81721345e+05, 1.70533238e+06, 2.41810384e+05, 3.80361628e+06,\n",
      "        1.06892403e+05, 3.54164432e+06, 1.78893581e+06, 2.31939378e+04,\n",
      "        1.35554791e+06, 3.19923332e+05],\n",
      "       [4.97142875e+05, 4.60199181e+06, 6.07587748e+05, 1.38830667e+06,\n",
      "        1.92000570e+05, 1.80837893e+05, 2.62107072e+05, 5.33761058e+06,\n",
      "        1.64939336e+04, 1.24335163e+06, 2.94970814e+04, 1.81905611e+04,\n",
      "        6.73633502e+05, 1.75118437e+06, 5.04163990e+06, 6.11358046e+06,\n",
      "        4.08326337e+05, 2.47170524e+06, 3.50479472e+05, 5.51295360e+06,\n",
      "        1.54929621e+05, 5.13325198e+06, 2.59287988e+06, 3.36171745e+04,\n",
      "        1.96472835e+06, 4.63696218e+05],\n",
      "       [1.01239740e+07, 9.37164100e+07, 1.23731082e+07, 2.82719140e+07,\n",
      "        3.90996007e+06, 3.68263982e+06, 5.33761058e+06, 1.08696783e+08,\n",
      "        3.35887537e+05, 2.53200041e+07, 6.00687753e+05, 3.70438236e+05,\n",
      "        1.37180847e+07, 3.56616699e+07, 1.02669542e+08, 1.24498877e+08,\n",
      "        8.31528607e+06, 5.03345838e+07, 7.13727431e+06, 1.12267523e+08,\n",
      "        3.15503557e+06, 1.04535159e+08, 5.28022221e+07, 6.84590664e+05,\n",
      "        4.00103467e+07, 9.44285576e+06],\n",
      "       [3.12844284e+04, 2.89596191e+05, 3.82345526e+04, 8.73639806e+04,\n",
      "        1.20823602e+04, 1.13799467e+04, 1.64939336e+04, 3.35887537e+05,\n",
      "        1.03853250e+03, 7.82421856e+04, 1.85586945e+03, 1.14443849e+03,\n",
      "        4.23907092e+04, 1.10199311e+05, 3.17262562e+05, 3.84718116e+05,\n",
      "        2.56953419e+04, 1.55540569e+05, 2.20551286e+04, 3.46921601e+05,\n",
      "        9.74945790e+03, 3.23027568e+05, 1.63165900e+05, 2.11526730e+03,\n",
      "        1.23637301e+05, 2.91796823e+04],\n",
      "       [2.35829486e+06, 2.18304520e+07, 2.88221181e+06, 6.58570533e+06,\n",
      "        9.10792417e+05, 8.57840070e+05, 1.24335163e+06, 2.53200041e+07,\n",
      "        7.82421856e+04, 5.89808365e+06, 1.39925176e+05, 8.62904811e+04,\n",
      "        3.19551281e+06, 8.30708701e+06, 2.39160090e+07, 2.90009696e+07,\n",
      "        1.93697617e+06, 1.17250193e+07, 1.66256821e+06, 2.61517781e+07,\n",
      "        7.34939084e+05, 2.43505889e+07, 1.22998349e+07, 1.59469655e+05,\n",
      "        9.32007480e+06, 2.19963408e+06],\n",
      "       [5.59478126e+04, 5.17902173e+05, 6.83771350e+04, 1.56238227e+05,\n",
      "        2.16075466e+04, 2.03513437e+04, 2.94970814e+04, 6.00687753e+05,\n",
      "        1.85586945e+03, 1.39925176e+05, 3.32028415e+03, 2.04692184e+03,\n",
      "        7.58098382e+04, 1.97076012e+05, 5.67379598e+05, 6.88014395e+05,\n",
      "        4.59525151e+04, 2.78162494e+05, 3.94425042e+04, 6.20420629e+05,\n",
      "        1.74355595e+04, 5.77689503e+05, 2.91799329e+05, 3.78305936e+03,\n",
      "        2.21107973e+05, 5.21837694e+04],\n",
      "       [3.45024664e+04, 3.19385182e+05, 4.21675074e+04, 9.63505795e+04,\n",
      "        1.33251707e+04, 1.25504879e+04, 1.81905611e+04, 3.70438236e+05,\n",
      "        1.14443849e+03, 8.62904811e+04, 2.04692184e+03, 1.26327863e+03,\n",
      "        4.67511824e+04, 1.21534840e+05, 3.49897424e+05, 4.24291718e+05,\n",
      "        2.83384646e+04, 1.71540077e+05, 2.43238049e+04, 3.82607306e+05,\n",
      "        1.07523351e+04, 3.56255441e+05, 1.79949779e+05, 2.33294560e+03,\n",
      "        1.36355115e+05, 3.21812179e+04],\n",
      "       [1.27769682e+06, 1.18274858e+07, 1.56154895e+06, 3.56805881e+06,\n",
      "        4.93456774e+05, 4.64767807e+05, 6.73633502e+05, 1.37180847e+07,\n",
      "        4.23907092e+04, 3.19551281e+06, 7.58098382e+04, 4.67511824e+04,\n",
      "        1.73129280e+06, 4.50068345e+06, 1.29574165e+07, 1.57123892e+07,\n",
      "        1.04943124e+06, 6.35247953e+06, 9.00760185e+05, 1.41687303e+07,\n",
      "        3.98181477e+05, 1.31928668e+07, 6.66390799e+06, 8.63988108e+04,\n",
      "        5.04950849e+06, 1.19173625e+06],\n",
      "       [3.32151341e+06, 3.07468502e+07, 4.05941824e+06, 9.27556130e+06,\n",
      "        1.28279515e+06, 1.20821503e+06, 1.75118437e+06, 3.56616699e+07,\n",
      "        1.10199311e+05, 8.30708701e+06, 1.97076012e+05, 1.21534840e+05,\n",
      "        4.50068345e+06, 1.17000226e+07, 3.36842292e+07, 4.08460837e+07,\n",
      "        2.72811192e+06, 1.65139692e+07, 2.34162517e+06, 3.68331726e+07,\n",
      "        1.03511654e+06, 3.42963083e+07, 1.73235617e+07, 2.24603211e+05,\n",
      "        1.31267527e+07, 3.09804944e+06],\n",
      "       [9.56259934e+06, 8.85198321e+07, 1.16870189e+07, 2.67042355e+07,\n",
      "        3.69315266e+06, 3.47843733e+06, 5.04163990e+06, 1.02669542e+08,\n",
      "        3.17262562e+05, 2.39160090e+07, 5.67379598e+05, 3.49897424e+05,\n",
      "        1.29574165e+07, 3.36842292e+07, 9.69765138e+07, 1.17595411e+08,\n",
      "        7.85420320e+06, 4.75435295e+07, 6.74151223e+06, 1.06042285e+08,\n",
      "        2.98008875e+06, 9.87386816e+07, 4.98743372e+07, 6.46630090e+05,\n",
      "        3.77917717e+07, 8.91924911e+06],\n",
      "       [1.15957747e+07, 1.07340692e+08, 1.41718830e+07, 3.23820217e+07,\n",
      "        4.47838132e+06, 4.21801376e+06, 6.11358046e+06, 1.24498877e+08,\n",
      "        3.84718116e+05, 2.90009696e+07, 6.88014395e+05, 4.24291718e+05,\n",
      "        1.57123892e+07, 4.08460837e+07, 1.17595411e+08, 1.42598247e+08,\n",
      "        9.52414376e+06, 5.76521130e+07, 8.17487529e+06, 1.28588724e+08,\n",
      "        3.61370759e+06, 1.19732247e+08, 6.04784910e+07, 7.84114924e+05,\n",
      "        4.58269614e+07, 1.08156370e+07],\n",
      "       [7.74482358e+05, 7.16929005e+06, 9.46540753e+05, 2.16279680e+06,\n",
      "        2.99111307e+05, 2.81721345e+05, 4.08326337e+05, 8.31528607e+06,\n",
      "        2.56953419e+04, 1.93697617e+06, 4.59525151e+04, 2.83384646e+04,\n",
      "        1.04943124e+06, 2.72811192e+06, 7.85420320e+06, 9.52414376e+06,\n",
      "        6.36119025e+05, 3.85058743e+06, 5.46000318e+05, 8.58844714e+06,\n",
      "        2.41359706e+05, 7.99692262e+06, 4.03936136e+06, 5.23710740e+04,\n",
      "        3.06078498e+06, 7.22376923e+05],\n",
      "       [4.68814263e+06, 4.33975725e+07, 5.72965673e+06, 1.30919701e+07,\n",
      "        1.81059833e+06, 1.70533238e+06, 2.47170524e+06, 5.03345838e+07,\n",
      "        1.55540569e+05, 1.17250193e+07, 2.78162494e+05, 1.71540077e+05,\n",
      "        6.35247953e+06, 1.65139692e+07, 4.75435295e+07, 5.76521130e+07,\n",
      "        3.85058743e+06, 2.33086056e+07, 3.30508157e+06, 5.19880986e+07,\n",
      "        1.46101291e+06, 4.84074472e+07, 2.44513022e+07, 3.17015697e+05,\n",
      "        1.85277255e+07, 4.37273491e+06],\n",
      "       [6.64762822e+05, 6.15362950e+06, 8.12446012e+05, 1.85639723e+06,\n",
      "        2.56736741e+05, 2.41810384e+05, 3.50479472e+05, 7.13727431e+06,\n",
      "        2.20551286e+04, 1.66256821e+06, 3.94425042e+04, 2.43238049e+04,\n",
      "        9.00760185e+05, 2.34162517e+06, 6.74151223e+06, 8.17487529e+06,\n",
      "        5.46000318e+05, 3.30508157e+06, 4.68650426e+05, 7.37173714e+06,\n",
      "        2.07166706e+05, 6.86401284e+06, 3.46711223e+06, 4.49517573e+04,\n",
      "        2.62716903e+06, 6.20039072e+05],\n",
      "       [1.04565513e+07, 9.67950383e+07, 1.27795706e+07, 2.92006597e+07,\n",
      "        4.03840410e+06, 3.80361628e+06, 5.51295360e+06, 1.12267523e+08,\n",
      "        3.46921601e+05, 2.61517781e+07, 6.20420629e+05, 3.82607306e+05,\n",
      "        1.41687303e+07, 3.68331726e+07, 1.06042285e+08, 1.28588724e+08,\n",
      "        8.58844714e+06, 5.19880986e+07, 7.37173714e+06, 1.15955565e+08,\n",
      "        3.25867998e+06, 1.07969189e+08, 5.45368000e+07, 7.07079790e+05,\n",
      "        4.13247054e+07, 9.75305803e+06],\n",
      "       [2.93858728e+05, 2.72021491e+06, 3.59142154e+05, 8.20621298e+05,\n",
      "        1.13490604e+05, 1.06892403e+05, 1.54929621e+05, 3.15503557e+06,\n",
      "        9.74945790e+03, 7.34939084e+05, 1.74355595e+04, 1.07523351e+04,\n",
      "        3.98181477e+05, 1.03511654e+06, 2.98008875e+06, 3.61370759e+06,\n",
      "        2.41359706e+05, 1.46101291e+06, 2.07166706e+05, 3.25867998e+06,\n",
      "        9.15791419e+04, 3.03424021e+06, 1.53263865e+06, 1.98709346e+04,\n",
      "        1.16134134e+06, 2.74088573e+05],\n",
      "       [9.73636217e+06, 9.01283338e+07, 1.18993848e+07, 2.71894805e+07,\n",
      "        3.76026127e+06, 3.54164432e+06, 5.13325198e+06, 1.04535159e+08,\n",
      "        3.23027568e+05, 2.43505889e+07, 5.77689503e+05, 3.56255441e+05,\n",
      "        1.31928668e+07, 3.42963083e+07, 9.87386816e+07, 1.19732247e+08,\n",
      "        7.99692262e+06, 4.84074472e+07, 6.86401284e+06, 1.07969189e+08,\n",
      "        3.03424021e+06, 1.00532872e+08, 5.07806082e+07, 6.58380063e+05,\n",
      "        3.84784893e+07, 9.08132158e+06],\n",
      "       [4.91797746e+06, 4.55251259e+07, 6.01055149e+06, 1.37338001e+07,\n",
      "        1.89936239e+06, 1.78893581e+06, 2.59287988e+06, 5.28022221e+07,\n",
      "        1.63165900e+05, 1.22998349e+07, 2.91799329e+05, 1.79949779e+05,\n",
      "        6.66390799e+06, 1.73235617e+07, 4.98743372e+07, 6.04784910e+07,\n",
      "        4.03936136e+06, 2.44513022e+07, 3.46711223e+06, 5.45368000e+07,\n",
      "        1.53263865e+06, 5.07806082e+07, 2.56500212e+07, 3.32557299e+05,\n",
      "        1.94360419e+07, 4.58710697e+06],\n",
      "       [6.37624956e+04, 5.90241754e+05, 7.79279218e+04, 1.78061282e+05,\n",
      "        2.46256203e+04, 2.31939378e+04, 3.36171745e+04, 6.84590664e+05,\n",
      "        2.11526730e+03, 1.59469655e+05, 3.78305936e+03, 2.33294560e+03,\n",
      "        8.63988108e+04, 2.24603211e+05, 6.46630090e+05, 7.84114924e+05,\n",
      "        5.23710740e+04, 3.17015697e+05, 4.49517573e+04, 7.07079790e+05,\n",
      "        1.98709346e+04, 6.58380063e+05, 3.32557299e+05, 4.31255947e+03,\n",
      "        2.51991910e+05, 5.94726980e+04],\n",
      "       [3.72654739e+06, 3.44962011e+07, 4.55443425e+06, 1.04066474e+07,\n",
      "        1.43922253e+06, 1.35554791e+06, 1.96472835e+06, 4.00103467e+07,\n",
      "        1.23637301e+05, 9.32007480e+06, 2.21107973e+05, 1.36355115e+05,\n",
      "        5.04950849e+06, 1.31267527e+07, 3.77917717e+07, 4.58269614e+07,\n",
      "        3.06078498e+06, 1.85277255e+07, 2.62716903e+06, 4.13247054e+07,\n",
      "        1.16134134e+06, 3.84784893e+07, 1.94360419e+07, 2.51991910e+05,\n",
      "        1.47274640e+07, 3.47583365e+06],\n",
      "       [8.79503740e+05, 8.14146035e+06, 1.07489360e+06, 2.45607645e+06,\n",
      "        3.39671408e+05, 3.19923332e+05, 4.63696218e+05, 9.44285576e+06,\n",
      "        2.91796823e+04, 2.19963408e+06, 5.21837694e+04, 3.21812179e+04,\n",
      "        1.19173625e+06, 3.09804944e+06, 8.91924911e+06, 1.08156370e+07,\n",
      "        7.22376923e+05, 4.37273491e+06, 6.20039072e+05, 9.75305803e+06,\n",
      "        2.74088573e+05, 9.08132158e+06, 4.58710697e+06, 5.94726980e+04,\n",
      "        3.47583365e+06, 8.20333702e+05]])\n",
      "      jac: array([ 1.60776309e+00,  6.57435800e-49,  9.92502631e-01,  4.02136207e-10,\n",
      "        2.91529758e+04,  4.60264199e+04,  2.72268462e+03,  6.74195246e-58,\n",
      "       -1.88059617e+05,  9.64285506e-09, -1.55995984e+05, -1.23137437e+05,\n",
      "        1.20983022e-02,  1.04244203e-14,  7.10229772e-54,  4.95572366e-67,\n",
      "        9.83447917e+01,  4.61235168e-23,  1.04093474e+02,  3.97207487e-60,\n",
      "       -1.03745229e+04,  6.46944428e-55,  9.17361576e-25, -9.71358494e+04,\n",
      "        2.14709688e-16,  1.00785644e+01])\n",
      "  message: 'Desired error not necessarily achieved due to precision loss.'\n",
      "     nfev: 51\n",
      "      nit: 1\n",
      "     njev: 39\n",
      "   status: 2\n",
      "  success: False\n",
      "        x: array([ 1.30946873e+01,  1.26939178e+02,  1.61577818e+01,  3.78103564e+01,\n",
      "        4.63322552e+00,  4.32444868e+00,  6.57627239e+00,  1.47340938e+02,\n",
      "       -2.44735220e-01,  3.37901519e+01,  1.17436158e-01, -1.94562230e-01,\n",
      "        1.79895045e+01,  4.78744607e+01,  1.39132444e+02,  1.68861803e+02,\n",
      "        1.06314409e+01,  6.78574937e+01,  9.02710763e+00,  1.52203928e+02,\n",
      "        3.60319565e+00,  1.41673227e+02,  7.12181689e+01,  2.34530719e-01,\n",
      "        5.37969211e+01,  1.21670732e+01])\n"
     ]
    }
   ],
   "source": [
    "#Train the GP inside of the sampler\n",
    "IS.train()"
   ]
  },
  {
   "cell_type": "code",
   "execution_count": 6,
   "metadata": {},
   "outputs": [
    {
     "name": "stdout",
     "output_type": "stream",
     "text": [
      "Running first burn-in\n",
      "Running second burn-in\n",
      "Running production...\n"
     ]
    }
   ],
   "source": [
    "#Resample the chain with an MCMC\n",
    "means = np.mean(input_chain, 0)\n",
    "\n",
    "nwalkers = 200\n",
    "ndim = len(input_chain[0])\n",
    "\n",
    "sampler = emcee.EnsembleSampler(nwalkers, ndim, IS.predict)\n",
    "\n",
    "print(\"Running first burn-in\")\n",
    "p0 = np.array([means + means*1e-3*np.random.randn(ndim) for i in range(nwalkers)])\n",
    "p0, lp, _ = sampler.run_mcmc(p0, 1000)\n",
    "print(\"Running second burn-in\")\n",
    "p0 = p0[np.argmax(lp)] + p0[np.argmax(lp)]*1e-4*np.random.randn(nwalkers, ndim)\n",
    "p0, lp, _ = sampler.run_mcmc(p0, 1000)\n",
    "sampler.reset()\n",
    "print(\"Running production...\")\n",
    "sampler.run_mcmc(p0, 3000);"
   ]
  },
  {
   "cell_type": "code",
   "execution_count": 7,
   "metadata": {},
   "outputs": [
    {
     "name": "stdout",
     "output_type": "stream",
     "text": [
      "('Means and stds of input chain: ', array([0.29176361, 0.74090343, 0.05235583, 0.98883199]), array([0.04303474, 0.08860382, 0.01003007, 0.05218202]))\n",
      "('Means and stds of test chain:  ', array([3.43727706e-01, 6.59102954e+11, 1.06887182e-01, 2.54104420e+03]), array([1.71452582e+00, 1.05031491e+14, 1.84114741e+00, 4.45217497e+05]))\n"
     ]
    }
   ],
   "source": [
    "test_chain = sampler.flatchain\n",
    "print(\"Means and stds of input chain: \", np.mean(input_chain, 0)[:4], np.std(input_chain, 0)[:4])\n",
    "print(\"Means and stds of test chain:  \", np.mean(test_chain, 0)[:4], np.std(test_chain, 0)[:4])"
   ]
  },
  {
   "cell_type": "code",
   "execution_count": 8,
   "metadata": {},
   "outputs": [
    {
     "data": {
      "image/png": "[encoded data removed]",
      "text/plain": [
       "<matplotlib.figure.Figure at 0x102965d50>"
      ]
     },
     "metadata": {
      "needs_background": "light"
     },
     "output_type": "display_data"
    }
   ],
   "source": [
    "c = CC.ChainConsumer()\n",
    "\n",
    "plot_input_chain = [input_chain[:,0], input_chain[:,4]]\n",
    "plot_test_chain = [test_chain[:,0], test_chain[:,4]]\n",
    "\n",
    "labels = [r\"$\\Omega_m$\", r\"$h$\", r\"$\\Omega_b$\", r\"$n_s$\", r\"$A_s$\"]\n",
    "labels = [r\"$\\Omega_m$\", r\"$A_s$\"]\n",
    "\n",
    "c.add_chain(plot_input_chain, parameters=labels, name=\"Input chain\")\n",
    "c.add_chain(plot_test_chain, parameters=labels, name=\"Resampled chain\")\n",
    "\n",
    "fig = c.plotter.plot()\n",
    "#fig.savefig(\"DESY1_resampling_example.png\", dpi=300, bbox_inches=\"tight\")"
   ]
  },
  {
   "cell_type": "code",
   "execution_count": null,
   "metadata": {},
   "outputs": [],
   "source": []
  }
 ],
 "metadata": {
  "kernelspec": {
   "display_name": "Python 2",
   "language": "python",
   "name": "python2"
  },
  "language_info": {
   "codemirror_mode": {
    "name": "ipython",
    "version": 2
   },
   "file_extension": ".py",
   "mimetype": "text/x-python",
   "name": "python",
   "nbconvert_exporter": "python",
   "pygments_lexer": "ipython2",
   "version": "2.7.15"
  }
 },
 "nbformat": 4,
 "nbformat_minor": 2
}
