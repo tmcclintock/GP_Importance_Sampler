{
 "cells": [
  {
   "cell_type": "markdown",
   "metadata": {},
   "source": [
    "# Resampling Planck 2018\n",
    "\n",
    "The Planck analysis is similar to the DES analysis in that it is high dimensional (it also has 27 free parameters), but differs in that many more parameters are well constrained. In this notebook, we will attempt to interpolate the Planck posterior probability distribution as a function of the parameters in the chain."
   ]
  },
  {
   "cell_type": "code",
   "execution_count": 1,
   "metadata": {},
   "outputs": [],
   "source": [
    "#Import things\n",
    "import numpy as np\n",
    "import matplotlib.pyplot as plt\n",
    "import importance_sampler as isamp\n",
    "import scipy.optimize as op\n",
    "import chainconsumer as CC\n",
    "import emcee #for doing MCMC\n",
    "%matplotlib inline"
   ]
  },
  {
   "cell_type": "code",
   "execution_count": 2,
   "metadata": {},
   "outputs": [],
   "source": [
    "#Plot formatting\n",
    "plt.rc(\"font\", size=18, family=\"serif\")\n",
    "plt.rc(\"text\", usetex=True)"
   ]
  },
  {
   "cell_type": "code",
   "execution_count": 3,
   "metadata": {},
   "outputs": [
    {
     "name": "stdout",
     "output_type": "stream",
     "text": [
      "('chain shape is   ', (24497, 27))\n",
      "('lnpost shape is  ', (24497,))\n",
      "('weights shape is ', (24497,))\n"
     ]
    }
   ],
   "source": [
    "#Read in the chain\n",
    "input_chain = np.load(\"Planck_data/Planck_params.npy\")\n",
    "lnpost = np.load(\"Planck_data/Planck_lnpost.npy\")\n",
    "weights = np.load(\"Planck_data/Planck_weights.npy\")\n",
    "print(\"chain shape is   \", input_chain.shape)\n",
    "print(\"lnpost shape is  \", lnpost.shape)\n",
    "print(\"weights shape is \", weights.shape)"
   ]
  },
  {
   "cell_type": "code",
   "execution_count": 4,
   "metadata": {},
   "outputs": [
    {
     "name": "stdout",
     "output_type": "stream",
     "text": [
      "      fun: 10320.805516444372\n",
      " hess_inv: array([[6.90078956e-08]])\n",
      "      jac: array([-1.61588475e-05])\n",
      "  message: 'Desired error not necessarily achieved due to precision loss.'\n",
      "     nfev: 82\n",
      "      nit: 7\n",
      "     njev: 71\n",
      "   status: 2\n",
      "  success: False\n",
      "        x: array([3.66735854])\n"
     ]
    }
   ],
   "source": [
    "#Pick out training points\n",
    "N_training = 600\n",
    "IS = isamp.ImportanceSampler(input_chain, lnpost, scale = 8)\n",
    "IS.select_training_points(N_training, method=\"LH\")\n",
    "#Train the GP inside of the sampler\n",
    "IS.train()"
   ]
  },
  {
   "cell_type": "code",
   "execution_count": null,
   "metadata": {},
   "outputs": [
    {
     "name": "stdout",
     "output_type": "stream",
     "text": [
      "Running first burn-in\n"
     ]
    }
   ],
   "source": [
    "start = input_chain[np.argmax(lnpost)]\n",
    "\n",
    "nwalkers = 200\n",
    "ndim = len(input_chain[0])\n",
    "\n",
    "sampler = emcee.EnsembleSampler(nwalkers, ndim, IS.predict)\n",
    "\n",
    "print(\"Running first burn-in\")\n",
    "p0 = np.array([start + start*1e-3*np.random.randn(ndim) for i in range(nwalkers)])\n",
    "p0, lp, _ = sampler.run_mcmc(p0, 1000)\n",
    "print(\"Running second burn-in\")\n",
    "p0 = p0[np.argmax(lp)] + p0[np.argmax(lp)]*1e-4*np.random.randn(nwalkers, ndim)\n",
    "p0, lp, _ = sampler.run_mcmc(p0, 1000)\n",
    "sampler.reset()\n",
    "print(\"Running production...\")\n",
    "sampler.run_mcmc(p0, 1000);"
   ]
  },
  {
   "cell_type": "code",
   "execution_count": null,
   "metadata": {},
   "outputs": [],
   "source": [
    "test_chain = sampler.flatchain"
   ]
  },
  {
   "cell_type": "code",
   "execution_count": null,
   "metadata": {},
   "outputs": [],
   "source": [
    "c = CC.ChainConsumer()\n",
    "\n",
    "plot_input_chain = [input_chain[:,4], input_chain[:,1]]\n",
    "plot_test_chain = [test_chain[:,4], test_chain[:,1]]\n",
    "\n",
    "#labels = [r\"$\\Omega_m$\", r\"$h$\", r\"$\\Omega_b$\", r\"$n_s$\", r\"$A_s$\"]\n",
    "labels = [r\"$\\ln 10^{10}A_s$\", r\"$\\Omega_ch^2$\", ]\n",
    "\n",
    "c.add_chain(plot_input_chain, parameters=labels, name=\"Input chain\", weights=weights)\n",
    "c.add_chain(plot_test_chain, parameters=labels, name=\"Resampled chain\")\n",
    "\n",
    "fig = c.plotter.plot()\n",
    "#fig.savefig(\"DESY1_resampling_example.png\", dpi=300, bbox_inches=\"tight\")"
   ]
  },
  {
   "cell_type": "code",
   "execution_count": null,
   "metadata": {},
   "outputs": [],
   "source": [
    "c2 = CC.ChainConsumer()\n",
    "\n",
    "c2.add_chain(input_chain[:,:7], name=\"Input chain\", weights=weights)\n",
    "c2.add_chain(test_chain[:,:7], name=\"Resampled chain\")\n",
    "\n",
    "fig = c2.plotter.plot()"
   ]
  },
  {
   "cell_type": "code",
   "execution_count": null,
   "metadata": {},
   "outputs": [],
   "source": []
  }
 ],
 "metadata": {
  "kernelspec": {
   "display_name": "Python 2",
   "language": "python",
   "name": "python2"
  },
  "language_info": {
   "codemirror_mode": {
    "name": "ipython",
    "version": 2
   },
   "file_extension": ".py",
   "mimetype": "text/x-python",
   "name": "python",
   "nbconvert_exporter": "python",
   "pygments_lexer": "ipython2",
   "version": "2.7.15"
  }
 },
 "nbformat": 4,
 "nbformat_minor": 2
}
